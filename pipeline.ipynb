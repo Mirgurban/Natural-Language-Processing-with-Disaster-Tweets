{
 "cells": [
  {
   "cell_type": "code",
   "execution_count": 1,
   "metadata": {},
   "outputs": [],
   "source": [
    "import pandas as pd\n",
    "# PunktSentenceTokenizer\n",
    "from nltk.tokenize import TreebankWordTokenizer \n",
    "from sklearn import linear_model\n",
    "from sklearn import metrics\n",
    "from sklearn import model_selection\n",
    "from sklearn import naive_bayes\n",
    "from sklearn.feature_extraction.text import CountVectorizer\n",
    "from sklearn.model_selection import cross_val_score"
   ]
  },
  {
   "cell_type": "code",
   "execution_count": 2,
   "metadata": {},
   "outputs": [],
   "source": [
    "features = ['keyword','location','text']\n",
    "\n",
    "df_train = pd.read_csv('C:\\\\Users\\\\Xiaomi\\\\Desktop\\\\Natural-Language-Processing-with-Disaster-Tweets\\\\train.csv')\n",
    "df_test = pd.read_csv('C:\\\\Users\\\\Xiaomi\\\\Desktop\\\\Natural-Language-Processing-with-Disaster-Tweets\\\\test.csv')"
   ]
  },
  {
   "cell_type": "code",
   "execution_count": 3,
   "metadata": {},
   "outputs": [
    {
     "data": {
      "text/plain": [
       "<3263x101867 sparse matrix of type '<class 'numpy.int64'>'\n",
       "\twith 76199 stored elements in Compressed Sparse Row format>"
      ]
     },
     "execution_count": 3,
     "metadata": {},
     "output_type": "execute_result"
    }
   ],
   "source": [
    "count_vec = CountVectorizer(\n",
    "    tokenizer=TreebankWordTokenizer().tokenize,\n",
    "    token_pattern=None,\n",
    "    ngram_range=(1,2)\n",
    ")\n",
    "\n",
    "count_vec.fit(df_train.text)\n",
    "\n",
    "xtrain = count_vec.transform(df_train.text)\n",
    "xtest = count_vec.transform(df_test.text)\n",
    "# xtrain.head()\n",
    "xtest"
   ]
  },
  {
   "cell_type": "code",
   "execution_count": 4,
   "metadata": {},
   "outputs": [],
   "source": [
    "model = linear_model.LogisticRegression(solver='sag', max_iter=4000)\n",
    "\n",
    "# cross_val_score(model, xtrain, df_train.target)\n",
    "model.fit(xtrain, df_train.target)\n",
    "test_predict = model.predict(xtest)\n"
   ]
  },
  {
   "cell_type": "code",
   "execution_count": 11,
   "metadata": {},
   "outputs": [],
   "source": [
    "import csv\n",
    "with open('answer.csv', 'w',newline='') as file:\n",
    "    writer = csv.writer(file)\n",
    "    writer.writerow(['id', 'target'])\n",
    "\n",
    "    for i in range(len(test_predict)):\n",
    "        writer.writerow([df_test.id.iloc[[i]].array[0], test_predict[i]])"
   ]
  }
 ],
 "metadata": {
  "kernelspec": {
   "display_name": "Python 3.8.10 ('base')",
   "language": "python",
   "name": "python3"
  },
  "language_info": {
   "codemirror_mode": {
    "name": "ipython",
    "version": 3
   },
   "file_extension": ".py",
   "mimetype": "text/x-python",
   "name": "python",
   "nbconvert_exporter": "python",
   "pygments_lexer": "ipython3",
   "version": "3.8.10"
  },
  "orig_nbformat": 4,
  "vscode": {
   "interpreter": {
    "hash": "fe3e2e4cba1fe2ca75dae6c481fe21229e83ac3d6dcf456a2846dc3bcef2b7a4"
   }
  }
 },
 "nbformat": 4,
 "nbformat_minor": 2
}
